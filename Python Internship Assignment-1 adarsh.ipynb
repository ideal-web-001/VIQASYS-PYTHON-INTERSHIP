{
 "cells": [
  {
   "cell_type": "markdown",
   "metadata": {},
   "source": [
    "___\n",
    "\n",
    "<a href='https://viqasys.com/wp-content/uploads/2021/07/ns1.png'><img src='https://viqasys.com/wp-content/uploads/2021/07/ns1.png'/></a>\n",
    "___\n",
    "<center><em>Content Copyright VIQASYS INNOVATIONS PVT LTD.</em></center>\n",
    "\n",
    "# Assignment 1"
   ]
  },
  {
   "cell_type": "markdown",
   "metadata": {},
   "source": [
    "# Question 1\n",
    "\n",
    "In the below elements, identify which of them are values or expressions. Values can be integers or strings, while expressions will be mathematical operators or combinations thereof.\n",
    "'hello', \n",
    "-87., ), o, lu, alu, ssion)'(Value))str\" (Value)"
   ]
  },
  {
   "cell_type": "markdown",
   "metadata": {},
   "source": [
    "valus=> 'hello',-87,\n",
    "Expression => (value)str"
   ]
  },
  {
   "cell_type": "code",
   "execution_count": null,
   "metadata": {},
   "outputs": [],
   "source": []
  },
  {
   "cell_type": "markdown",
   "metadata": {},
   "source": [
    "## Question 2\n",
    "\n",
    "Explain the difference between a string and a variable.\n"
   ]
  },
  {
   "cell_type": "markdown",
   "metadata": {},
   "source": [
    "variable:\n",
    "    variables are the symbol or sysmbolic name which are define by using some rules.\n",
    "    they are used to store values that can be changeable during run time.\n",
    "\n",
    "string:\n",
    "    On the other hand, String is the collection or we can say the array of characters.\n",
    "    like 'adarsh kumar' 'roll 39'.etc.\n",
    "    python library provide some special functions to manipulate the strings.\n",
    "    ex-len(str),concat,\n"
   ]
  },
  {
   "cell_type": "code",
   "execution_count": 3,
   "metadata": {},
   "outputs": [
    {
     "name": "stdout",
     "output_type": "stream",
     "text": [
      "your number : 45\n",
      "your name :adarsh kumar\n"
     ]
    }
   ],
   "source": [
    "# variable\n",
    "num=45\n",
    "print(\"your number :\", num)\n",
    "# string example\n",
    "fname =\"adarsh\" \n",
    "lname='kumar'\n",
    "# + is operator which is used to concate the strings in python \n",
    "print('your name :'+fname+\" \"+lname)"
   ]
  },
  {
   "cell_type": "markdown",
   "metadata": {},
   "source": [
    "## Question 3\n",
    "Describe three different data types commonly used in programming"
   ]
  },
  {
   "cell_type": "markdown",
   "metadata": {},
   "source": [
    "Data types:\n",
    "    Data type are the reserved words in the programming language which are used to define the range and behavior of the variables .\n",
    "    In pyhon,the python is a dynamic type language which means that it has ability to identify the data type autometically according to the values that can be \n",
    "    inputted. so there is no need decalare variables with writting data types.\n",
    "    there are the followig data type generally used in programming:-\n",
    "     int, float ,char,double,boolean etc.\n",
    "     1.int: this is a data type use to stroe the integer values in variables\n",
    "     2.float: This is a data type which is responseable to store the floating point values or decimal values.\n",
    "     3.char: This is a type which is use ti store the character .\n",
    "     4.boolean: this is a type of which are used to store only true or false as value only.\n"
   ]
  },
  {
   "cell_type": "code",
   "execution_count": 9,
   "metadata": {},
   "outputs": [
    {
     "name": "stdout",
     "output_type": "stream",
     "text": [
      "<class 'int'>\n",
      "<class 'float'>\n",
      "<class 'str'>\n",
      "<class 'bool'>\n"
     ]
    }
   ],
   "source": [
    "num=189 #integer \n",
    "print(type(num))\n",
    "flt=3.56 # floating point value\n",
    "print(type(flt))\n",
    "char='D' #charcater\n",
    "print(type(char))\n",
    "bool=True #boolean data \n",
    "print(type(bool))"
   ]
  },
  {
   "cell_type": "markdown",
   "metadata": {},
   "source": [
    "## Question 4\n",
    "What is an expression made up of? What is the general purpose of expressions?\n"
   ]
  },
  {
   "cell_type": "markdown",
   "metadata": {},
   "source": [
    "Expression is made up of  combination of operators and the operands(variables) in any programming language.\n",
    "Operators are thes special  Symbol which are responseable  to perform oprations in program.\n",
    "The general purpuse of the expresion is preform the desire operation to get valuable outcomes from the programs.\n",
    "ex:-\n",
    "        a= b + c\n",
    "        here, a,b and c are operands and = and + are the operators.\n"
   ]
  },
  {
   "cell_type": "code",
   "execution_count": 1,
   "metadata": {},
   "outputs": [
    {
     "name": "stdout",
     "output_type": "stream",
     "text": [
      "addition : 14\n"
     ]
    }
   ],
   "source": [
    "num1=5\n",
    "num2=9\n",
    "sum = num1 + num2\n",
    "print(\"addition :\",sum)"
   ]
  },
  {
   "cell_type": "markdown",
   "metadata": {},
   "source": [
    "## Question 5\n",
    "\n",
    "Explain the difference between an expression and a statement, using examples if necessary."
   ]
  },
  {
   "cell_type": "markdown",
   "metadata": {},
   "source": [
    "Expression :\n",
    "    Expression is made up of  combination of operators and the operands(variables) in any programming language.\n",
    "    Operators are thes special  Symbol which are responseable  to perform oprations in program.\n",
    "\n",
    "Satements :\n",
    "    In the programming language, each and every single line of code known as statement.\n",
    "    comment is also a statement which is neglated by the translator of the code.\n",
    "    It is used to describe the lines of block of code to create understandability for other programmer "
   ]
  },
  {
   "cell_type": "code",
   "execution_count": null,
   "metadata": {},
   "outputs": [],
   "source": [
    "# example of expression and statement\n",
    "# all the line are known as  statement \n",
    "num1=5\n",
    "num2=9\n",
    "sum = num1 + num2 #Expression\n",
    "print(\"addition :\",sum)"
   ]
  },
  {
   "cell_type": "markdown",
   "metadata": {},
   "source": [
    "## Question 6\n",
    "After running the following code, what does the variable \"bacon\" contain?\n",
    "\n",
    "bacon = 22 <br>\n",
    "\n",
    "bacon + 1"
   ]
  },
  {
   "cell_type": "markdown",
   "metadata": {},
   "source": [
    "the variable bacon contains 22 because firstly we assign 22 in the bacon then we used to incerase its value by one \n",
    "but we are not going to update or change the value of bacon it still 22."
   ]
  },
  {
   "cell_type": "code",
   "execution_count": 2,
   "metadata": {},
   "outputs": [
    {
     "name": "stdout",
     "output_type": "stream",
     "text": [
      "22\n",
      "22\n"
     ]
    }
   ],
   "source": [
    "bacon=22\n",
    "print(bacon)\n",
    "bacon + 1\n",
    "print(bacon) "
   ]
  },
  {
   "cell_type": "markdown",
   "metadata": {},
   "source": [
    "## Question 7\n",
    "Determine the values of the following two terms:<br>\n",
    "'spam' + 'spamspam'<br>\n",
    "'spam' * 3\n",
    "\n"
   ]
  },
  {
   "cell_type": "code",
   "execution_count": 10,
   "metadata": {},
   "outputs": [
    {
     "name": "stdout",
     "output_type": "stream",
     "text": [
      "spamspamspam\n",
      "spamspamspam\n"
     ]
    }
   ],
   "source": [
    "print('spam' +'spamspam')\n",
    "print('spam'*3)\n"
   ]
  },
  {
   "cell_type": "markdown",
   "metadata": {},
   "source": [
    "## Question 8\n",
    "\n",
    "Why is \"eggs\" a valid variable name while \"100\" is invalid?"
   ]
  },
  {
   "cell_type": "markdown",
   "metadata": {},
   "source": [
    "In programming we have to follow some rule for creating variables which that\n",
    "a variable name can not be start with the number.\n",
    "we can not use the specical symbols to create variables only _(underscore) is used in a variable name.\n",
    "In this case,\n",
    "\" eggs\" can be a valid variable name because it start with the alphabate and there is no special symbol is used in it.\n",
    "\"100\"  can not be a valid variable name because it start with the number."
   ]
  },
  {
   "cell_type": "code",
   "execution_count": 12,
   "metadata": {},
   "outputs": [
    {
     "ename": "SyntaxError",
     "evalue": "cannot assign to literal here. Maybe you meant '==' instead of '='? (2353030587.py, line 2)",
     "output_type": "error",
     "traceback": [
      "\u001b[1;36m  Cell \u001b[1;32mIn[12], line 2\u001b[1;36m\u001b[0m\n\u001b[1;33m    100=3\u001b[0m\n\u001b[1;37m    ^\u001b[0m\n\u001b[1;31mSyntaxError\u001b[0m\u001b[1;31m:\u001b[0m cannot assign to literal here. Maybe you meant '==' instead of '='?\n"
     ]
    }
   ],
   "source": [
    "eggs=40 #valid variable\n",
    "100=3  #not a valid variable"
   ]
  },
  {
   "cell_type": "markdown",
   "metadata": {},
   "source": [
    "## Question 9\n",
    "\n",
    "List three functions that can be used to obtain the integer, floating-point number, or string version of a value."
   ]
  },
  {
   "cell_type": "markdown",
   "metadata": {},
   "source": [
    "these are the following functions:-\n",
    "1.int()    -> to obtain integer\n",
    "2.float()  -> To obtain floating-point value\n",
    "3.str()    -> To  obtain string "
   ]
  },
  {
   "cell_type": "code",
   "execution_count": 4,
   "metadata": {},
   "outputs": [
    {
     "name": "stdout",
     "output_type": "stream",
     "text": [
      "<class 'int'>\n",
      "<class 'str'>\n",
      "<class 'float'>\n"
     ]
    }
   ],
   "source": [
    "print(type(int(\"5\"))) #string to int\n",
    "\n",
    "print(type(str(5))) #int to string\n",
    "\n",
    "print(type(float(\"5.67\"))) #string to float\n"
   ]
  },
  {
   "cell_type": "markdown",
   "metadata": {},
   "source": [
    "## Question 10 \n",
    "Explain why the following expression causes an error and suggest how to fix it:<br>\n",
    "'I have eaten ' + 99 + ' burritos.'\n",
    "\n"
   ]
  },
  {
   "cell_type": "code",
   "execution_count": 14,
   "metadata": {},
   "outputs": [
    {
     "name": "stdout",
     "output_type": "stream",
     "text": [
      "i have eaten99burritos\n"
     ]
    }
   ],
   "source": [
    "print('i have eaten%dburritos'%(99))"
   ]
  },
  {
   "cell_type": "markdown",
   "metadata": {},
   "source": [
    "## Question 11\n",
    "Write a Python program to calculate the sum of two numbers and print the result.\n",
    "gative, or zero."
   ]
  },
  {
   "cell_type": "code",
   "execution_count": 16,
   "metadata": {},
   "outputs": [
    {
     "name": "stdout",
     "output_type": "stream",
     "text": [
      "15\n",
      "positive\n"
     ]
    }
   ],
   "source": [
    "num=5\n",
    "num1=10\n",
    "sum=num +num1\n",
    "print(sum)\n",
    "if sum<0 :\n",
    "    print(\"negative number\")\n",
    "elif sum>0:\n",
    "    print(\"positive\")\n",
    "else:\n",
    "    print(\"Zero\")\n"
   ]
  },
  {
   "cell_type": "markdown",
   "metadata": {},
   "source": [
    "## Question 12\n",
    "Create a Python program that takes the user's name as input and prints a greeting message.\n",
    "\n"
   ]
  },
  {
   "cell_type": "code",
   "execution_count": 18,
   "metadata": {},
   "outputs": [
    {
     "name": "stdout",
     "output_type": "stream",
     "text": [
      "hello!adarsh nice to meet you!!\n"
     ]
    }
   ],
   "source": [
    "name =str(input(\"enter your name:\"))\n",
    "print(\"hello!\"+name+\" nice to meet you!!\")"
   ]
  },
  {
   "cell_type": "markdown",
   "metadata": {},
   "source": [
    "## Question 13\n",
    "Write a Python program to calculate the area of a rectangle given its length and width. (Assume length and width are provided as inputs.)\n",
    "\n"
   ]
  },
  {
   "cell_type": "code",
   "execution_count": 1,
   "metadata": {},
   "outputs": [
    {
     "name": "stdout",
     "output_type": "stream",
     "text": [
      "area of rectangle : 300\n"
     ]
    }
   ],
   "source": [
    "l=20 # length of rectangle\n",
    "b=15 #width of rectangle\n",
    "area= l * b\n",
    "print(\"area of rectangle :\",area)"
   ]
  },
  {
   "cell_type": "markdown",
   "metadata": {},
   "source": [
    "## Question 14\n",
    "Create a Python program that asks the user for their age and prints out a message saying whether they are a child, teenager, or adult based on their age.\n",
    "\n"
   ]
  },
  {
   "cell_type": "code",
   "execution_count": 3,
   "metadata": {},
   "outputs": [
    {
     "name": "stdout",
     "output_type": "stream",
     "text": [
      "your are a adult because your age is above 19!!\n"
     ]
    }
   ],
   "source": [
    "age=int(input(\"Enter your age :\"))\n",
    "if age <=12 :\n",
    "    print(\"your are a child because your age is under 12\")\n",
    "elif age > 12 and age <=19 :\n",
    "    print(\"your are a teenager because your age is between 12 and 19!\")\n",
    "else :\n",
    "     print(\"your are a adult because your age is above 19!!\")\n",
    "\n"
   ]
  },
  {
   "cell_type": "markdown",
   "metadata": {},
   "source": [
    "## Question 15\n",
    "Write a Python program to convert temperature from Celsius to Fahrenheit. (Assume Celsius temperature is provided as input.)\n",
    "\n"
   ]
  },
  {
   "cell_type": "code",
   "execution_count": 4,
   "metadata": {},
   "outputs": [
    {
     "name": "stdout",
     "output_type": "stream",
     "text": [
      "the temprature in fahrenheit : 68.0\n"
     ]
    }
   ],
   "source": [
    "temp=int(input(\"Enter the temprature in celsius to convert in to Fahrenhiet:\"))\n",
    "frht=1.8*temp +32\n",
    "print(\"the temprature in fahrenheit :\",frht)"
   ]
  },
  {
   "cell_type": "markdown",
   "metadata": {},
   "source": [
    "## Question 16\n",
    "Create a Python program that takes the radius of a circle as input and calculates its area. (Assume the value of pi is 3.14.)\n",
    "\n"
   ]
  },
  {
   "cell_type": "code",
   "execution_count": 5,
   "metadata": {},
   "outputs": [
    {
     "name": "stdout",
     "output_type": "stream",
     "text": [
      "Area of circle of given radii:  153.86\n"
     ]
    }
   ],
   "source": [
    "radii=float(input(\"Enter the radius of the circle  to calculate area:\"))\n",
    "area=3.14 * radii * radii\n",
    "print(\"Area of circle of given radii: \",area)"
   ]
  },
  {
   "cell_type": "markdown",
   "metadata": {},
   "source": [
    "## Question 17\n",
    "Write a Python program to find the maximum of two numbers entered by the user.\n",
    "\n"
   ]
  },
  {
   "cell_type": "code",
   "execution_count": 9,
   "metadata": {},
   "outputs": [
    {
     "name": "stdout",
     "output_type": "stream",
     "text": [
      "b is biggernumber!!\n"
     ]
    }
   ],
   "source": [
    "a =int(input(\"Enter first number :\"))\n",
    "b =int(input(\"Enter second number :\"))\n",
    "if a>b:\n",
    "    print(\"a is bigger number !!\")\n",
    "else :\n",
    "    print(\"b is bigger number!!\")"
   ]
  },
  {
   "cell_type": "markdown",
   "metadata": {},
   "source": [
    "## Question 18\n",
    "Create a Python program that asks the user to enter two numbers and prints out their product.\n",
    "\n"
   ]
  },
  {
   "cell_type": "code",
   "execution_count": 11,
   "metadata": {},
   "outputs": [
    {
     "name": "stdout",
     "output_type": "stream",
     "text": [
      "The product of given number: 30\n"
     ]
    }
   ],
   "source": [
    "num1 =int(input(\"Enter first number :\"))\n",
    "num2 =int(input(\"Enter second number :\"))\n",
    "product= num1 * num2\n",
    "print(\"The product of given number:\",product)"
   ]
  },
  {
   "cell_type": "markdown",
   "metadata": {},
   "source": [
    "## Question 19\n",
    "Write a Python program that prompts the user to enter a number and then prints whether the number is positive, negative, or zero."
   ]
  },
  {
   "cell_type": "code",
   "execution_count": 12,
   "metadata": {},
   "outputs": [
    {
     "name": "stdout",
     "output_type": "stream",
     "text": [
      "number is positive !!\n"
     ]
    }
   ],
   "source": [
    "num =int(input(\"Enter first number :\"))\n",
    "if num < 0 :\n",
    "    print(\"number is negative !!\")\n",
    "elif num > 0 :\n",
    "    print(\"number is positive !!\")\n",
    "else :\n",
    "    print(\"number is Zero !!\")"
   ]
  }
 ],
 "metadata": {
  "anaconda-cloud": {},
  "kernelspec": {
   "display_name": "Python 3 (ipykernel)",
   "language": "python",
   "name": "python3"
  },
  "language_info": {
   "codemirror_mode": {
    "name": "ipython",
    "version": 3
   },
   "file_extension": ".py",
   "mimetype": "text/x-python",
   "name": "python",
   "nbconvert_exporter": "python",
   "pygments_lexer": "ipython3",
   "version": "3.12.0"
  }
 },
 "nbformat": 4,
 "nbformat_minor": 4
}
